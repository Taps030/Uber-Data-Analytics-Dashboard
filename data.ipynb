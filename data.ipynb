{
 "cells": [
  {
   "cell_type": "code",
   "execution_count": 14,
   "metadata": {},
   "outputs": [
    {
     "name": "stdout",
     "output_type": "stream",
     "text": [
      "  pickup_date pickup_time dropoff_date dropoff_time  passengers       city  \\\n",
      "0     16/3/25     6:05 PM      16/3/25      7:26 PM           3    Kolkata   \n",
      "1     18/2/25     3:37 AM      18/2/25      4:07 AM           1  Hyderabad   \n",
      "2     26/2/25    12:00 AM      26/2/25      1:04 AM           1  Hyderabad   \n",
      "3     16/2/25     9:49 PM      16/2/25     11:09 PM           1    Kolkata   \n",
      "4      5/3/25    10:50 PM       5/3/25     11:33 PM           2  Bangalore   \n",
      "\n",
      "          pickup          drop     trip_type  base_fare    toll     tip  \\\n",
      "0        Dum Dum        Howrah  One-Way Trip      460.5   90.28    0.00   \n",
      "1    Hitech City  Secunderabad  One-Way Trip      474.0  149.51    0.00   \n",
      "2  Banjara Hills  Secunderabad  One-Way Trip      738.0  130.68  152.05   \n",
      "3       New Town      New Town    Round Trip      469.5  178.32    0.00   \n",
      "4    Indiranagar       MG Road  One-Way Trip      315.0  190.47   98.98   \n",
      "\n",
      "   total_amount payment_type weather traffic_level vehicle_type  \\\n",
      "0        550.78          UPI   Clear           Low        Sedan   \n",
      "1        623.51          UPI   Clear           Low         Auto   \n",
      "2       1020.73          UPI     Fog          High          SUV   \n",
      "3        647.82          UPI   Clear           Low        Sedan   \n",
      "4        604.45          UPI   Clear           Low         Auto   \n",
      "\n",
      "   driver_rating cancelled  \n",
      "0            3.6        No  \n",
      "1            4.0        No  \n",
      "2            4.0        No  \n",
      "3            4.3        No  \n",
      "4            3.9        No  \n"
     ]
    }
   ],
   "source": [
    "import pandas as pd\n",
    "\n",
    "# Load the Excel file\n",
    "df = pd.read_csv('dataset_original.csv')\n",
    "\n",
    "# Check the first few rows\n",
    "print(df.head())\n"
   ]
  },
  {
   "cell_type": "code",
   "execution_count": 15,
   "metadata": {},
   "outputs": [
    {
     "name": "stdout",
     "output_type": "stream",
     "text": [
      "pickup_date      0\n",
      "pickup_time      0\n",
      "dropoff_date     0\n",
      "dropoff_time     0\n",
      "passengers       0\n",
      "city             0\n",
      "pickup           0\n",
      "drop             0\n",
      "trip_type        0\n",
      "base_fare        0\n",
      "toll             0\n",
      "tip              0\n",
      "total_amount     0\n",
      "payment_type     0\n",
      "weather          0\n",
      "traffic_level    0\n",
      "vehicle_type     0\n",
      "driver_rating    0\n",
      "cancelled        0\n",
      "dtype: int64\n"
     ]
    }
   ],
   "source": [
    "# Check for missing values\n",
    "print(df.isnull().sum())\n",
    "\n",
    "# Option 1: Drop rows with missing values\n",
    "df = df.dropna()\n",
    "\n",
    "# Option 2: Fill missing values (example: filling with 0 or mean)\n",
    "df['tip'] = df['tip'].fillna(0)\n"
   ]
  },
  {
   "cell_type": "code",
   "execution_count": 16,
   "metadata": {},
   "outputs": [],
   "source": [
    "# Remove duplicate rows\n",
    "df = df.drop_duplicates()\n"
   ]
  },
  {
   "cell_type": "code",
   "execution_count": 17,
   "metadata": {},
   "outputs": [
    {
     "name": "stderr",
     "output_type": "stream",
     "text": [
      "C:\\Users\\laksh\\AppData\\Local\\Temp\\ipykernel_3972\\3390074087.py:2: UserWarning: Could not infer format, so each element will be parsed individually, falling back to `dateutil`. To ensure parsing is consistent and as-expected, please specify a format.\n",
      "  df['pickup_datetime'] = pd.to_datetime(df['pickup_date'] + ' ' + df['pickup_time'])\n",
      "C:\\Users\\laksh\\AppData\\Local\\Temp\\ipykernel_3972\\3390074087.py:3: UserWarning: Could not infer format, so each element will be parsed individually, falling back to `dateutil`. To ensure parsing is consistent and as-expected, please specify a format.\n",
      "  df['dropoff_datetime'] = pd.to_datetime(df['dropoff_date'] + ' ' + df['dropoff_time'])\n"
     ]
    }
   ],
   "source": [
    "# Convert date and time columns to datetime\n",
    "df['pickup_datetime'] = pd.to_datetime(df['pickup_date'] + ' ' + df['pickup_time'])\n",
    "df['dropoff_datetime'] = pd.to_datetime(df['dropoff_date'] + ' ' + df['dropoff_time'])\n",
    "\n",
    "# Convert numerical columns\n",
    "numeric_cols = ['base_fare', 'toll', 'tip', 'total_amount', 'driver_rating', 'passengers']\n",
    "df[numeric_cols] = df[numeric_cols].apply(pd.to_numeric, errors='coerce')\n"
   ]
  },
  {
   "cell_type": "code",
   "execution_count": 18,
   "metadata": {},
   "outputs": [
    {
     "name": "stdout",
     "output_type": "stream",
     "text": [
      "['Kolkata' 'Hyderabad' 'Bangalore' 'Delhi' 'Mumbai' 'Pune']\n"
     ]
    }
   ],
   "source": [
    "# Check unique values\n",
    "print(df['city'].unique())\n",
    "\n",
    "# Example: Correct inconsistent city names\n",
    "df['city'] = df['city'].str.strip().str.title()\n"
   ]
  },
  {
   "cell_type": "code",
   "execution_count": 19,
   "metadata": {},
   "outputs": [],
   "source": [
    "# Remove outliers using IQR method\n",
    "Q1 = df['total_amount'].quantile(0.25)\n",
    "Q3 = df['total_amount'].quantile(0.75)\n",
    "IQR = Q3 - Q1\n",
    "df = df[~((df['total_amount'] < (Q1 - 1.5 * IQR)) | (df['total_amount'] > (Q3 + 1.5 * IQR)))]\n"
   ]
  },
  {
   "cell_type": "code",
   "execution_count": 20,
   "metadata": {},
   "outputs": [],
   "source": [
    "# Drop irrelevant columns if needed\n",
    "df = df.drop(columns=['pickup_date', 'pickup_time', 'dropoff_date', 'dropoff_time'])\n"
   ]
  },
  {
   "cell_type": "code",
   "execution_count": 21,
   "metadata": {},
   "outputs": [],
   "source": [
    "# Save cleaned file\n",
    "df.to_csv('cleaned_uber_dataset.csv', index=False)\n"
   ]
  }
 ],
 "metadata": {
  "kernelspec": {
   "display_name": "Python 3",
   "language": "python",
   "name": "python3"
  },
  "language_info": {
   "codemirror_mode": {
    "name": "ipython",
    "version": 3
   },
   "file_extension": ".py",
   "mimetype": "text/x-python",
   "name": "python",
   "nbconvert_exporter": "python",
   "pygments_lexer": "ipython3",
   "version": "3.12.5"
  }
 },
 "nbformat": 4,
 "nbformat_minor": 2
}
